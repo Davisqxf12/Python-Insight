{
 "cells": [
  {
   "cell_type": "code",
   "metadata": {
    "jupyter": {
     "is_executing": true
    }
   },
   "source": [
    "!pip install pandas openpyxl numpy nbformat plotly ipykernel\n",
    "\n",
    "#Passo 1 Importar a base de Dados\n",
    "\n",
    "import pandas as pd\n",
    "\n",
    "tabela = pd.read_csv(\"cancelamentos.csv\")\n",
    "\n",
    "\n",
    "\n"
   ],
   "outputs": [],
   "execution_count": null
  },
  {
   "metadata": {},
   "cell_type": "code",
   "source": [
    "#Passo 2 Visualizar a base de Dados\n",
    "\n",
    "tabela = tabela.drop(columns =\"CustomerID\")\n",
    "display(tabela)\n"
   ],
   "outputs": [],
   "execution_count": null
  },
  {
   "metadata": {},
   "cell_type": "code",
   "source": [
    "#Passo 3 Resolver os problemas da base de Dados\n",
    "display(tabela.info())\n",
    "\n",
    "# valores vazios - excluir as linhas que têm valores vazios\n",
    "tabela = tabela.dropna()\n",
    "\n",
    "display(tabela.info())"
   ],
   "outputs": [],
   "execution_count": null
  },
  {
   "metadata": {},
   "cell_type": "code",
   "source": [
    "#Passo 4 Análise inicial do cancelamento (Quantos clientes cancelaram, qual o % de clientes)\n",
    "\n",
    "display (tabela[\"cancelou\"].value_counts())\n",
    "\n",
    "# Para visualizar em percentual\n",
    "\n",
    "display (tabela[\"cancelou\"].value_counts(normalize=True))\n",
    "\n",
    "# display (tabela[\"cancelou\"].value_counts(normalize=True).map(\"{:.1%}\".format))"
   ],
   "outputs": [],
   "execution_count": null
  },
  {
   "metadata": {},
   "cell_type": "code",
   "source": [
    "#Passo 5 Análise detalhada (Analisar a causa do cancelamento dos clientes. Como as colunas impactam no cancelamento)\n",
    "#Gráficos/Dashboards\n",
    "\n",
    "#!pip install plotly\n",
    "\n",
    "import plotly.express as px\n",
    "\n",
    "#Criar o Grafico\n",
    "for coluna in tabela.columns:\n",
    "    grafico = px.histogram(tabela, x=coluna, color= \"cancelou\")\n",
    "\n",
    "    grafico.show()\n",
    "\n",
    "\n"
   ],
   "outputs": [],
   "execution_count": null
  }
 ],
 "metadata": {
  "kernelspec": {
   "display_name": "Python [conda env:base] *",
   "language": "python",
   "name": "conda-base-py"
  },
  "language_info": {
   "codemirror_mode": {
    "name": "ipython",
    "version": 3
   },
   "file_extension": ".py",
   "mimetype": "text/x-python",
   "name": "python",
   "nbconvert_exporter": "python",
   "pygments_lexer": "ipython3",
   "version": "3.10.9"
  },
  "orig_nbformat": 4
 },
 "nbformat": 4,
 "nbformat_minor": 2
}
